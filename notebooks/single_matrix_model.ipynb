{
 "cells": [
  {
   "cell_type": "markdown",
   "metadata": {},
   "source": [
    "## Single Matrix Models\n",
    "\n",
    "Okay, a little note about what we're doing here. First, get our imports set up:"
   ]
  },
  {
   "cell_type": "code",
   "execution_count": 2,
   "metadata": {},
   "outputs": [],
   "source": [
    "import sys; sys.path.insert(0, '..')\n",
    "import catenary.single as m\n",
    "import jax.numpy.linalg as la\n",
    "import numpy as np\n",
    "\n",
    "from functools import partial"
   ]
  },
  {
   "cell_type": "markdown",
   "metadata": {},
   "source": [
    "Set up options for array printing..."
   ]
  },
  {
   "cell_type": "code",
   "execution_count": 5,
   "metadata": {},
   "outputs": [],
   "source": [
    " large_width = 400\n",
    " np.set_printoptions(linewidth=large_width)"
   ]
  },
  {
   "cell_type": "markdown",
   "metadata": {},
   "source": [
    "Here's a list of the first 9 0-indexed correlators, with alpha=1."
   ]
  },
  {
   "cell_type": "code",
   "execution_count": 8,
   "metadata": {},
   "outputs": [
    {
     "data": {
      "text/plain": [
       "DeviceArray([ 1.        ,  0.        ,  2.5       ,  0.        , -1.25      ,  0.        ,  5.20833333,  0.        , -1.21527778], dtype=float64)"
      ]
     },
     "execution_count": 8,
     "metadata": {},
     "output_type": "execute_result"
    }
   ],
   "source": [
    "m.single_matrix_correlators(9, 1, 1.2, 0, 2.5)"
   ]
  },
  {
   "cell_type": "markdown",
   "metadata": {},
   "source": [
    "Then the 8x8 inner product matrix:"
   ]
  },
  {
   "cell_type": "code",
   "execution_count": 10,
   "metadata": {},
   "outputs": [
    {
     "data": {
      "text/plain": [
       "DeviceArray([[  1.        ,   0.        ,   2.5       ,   0.        ,  -1.25      ,   0.        ,   5.20833333,   0.        ],\n",
       "             [  0.        ,   2.5       ,   0.        ,  -1.25      ,   0.        ,   5.20833333,   0.        ,  -1.21527778],\n",
       "             [  2.5       ,   0.        ,  -1.25      ,   0.        ,   5.20833333,   0.        ,  -1.21527778,   0.        ],\n",
       "             [  0.        ,  -1.25      ,   0.        ,   5.20833333,   0.        ,  -1.21527778,   0.        ,   4.4849537 ],\n",
       "             [ -1.25      ,   0.        ,   5.20833333,   0.        ,  -1.21527778,   0.        ,   4.4849537 ,   0.        ],\n",
       "             [  0.        ,   5.20833333,   0.        ,  -1.21527778,   0.        ,   4.4849537 ,   0.        ,  17.24054784],\n",
       "             [  5.20833333,   0.        ,  -1.21527778,   0.        ,   4.4849537 ,   0.        ,  17.24054784,   0.        ],\n",
       "             [  0.        ,  -1.21527778,   0.        ,   4.4849537 ,   0.        ,  17.24054784,   0.        , -22.80655221]], dtype=float64)"
      ]
     },
     "execution_count": 10,
     "metadata": {},
     "output_type": "execute_result"
    }
   ],
   "source": [
    "m.inner_product_matrix(8, 1, 1.2, 0, 2.5)"
   ]
  },
  {
   "cell_type": "markdown",
   "metadata": {},
   "source": [
    "We can generate big matrices pretty fast:"
   ]
  },
  {
   "cell_type": "code",
   "execution_count": 11,
   "metadata": {},
   "outputs": [
    {
     "name": "stdout",
     "output_type": "stream",
     "text": [
      "CPU times: user 310 ms, sys: 14.7 ms, total: 324 ms\n",
      "Wall time: 307 ms\n"
     ]
    },
    {
     "data": {
      "text/plain": [
       "(100000, 100000)"
      ]
     },
     "execution_count": 11,
     "metadata": {},
     "output_type": "execute_result"
    }
   ],
   "source": [
    "%time m.inner_product_matrix(100000, 1, 1.2, 0, 2.5).shape"
   ]
  },
  {
   "cell_type": "markdown",
   "metadata": {},
   "source": []
  },
  {
   "cell_type": "code",
   "execution_count": null,
   "metadata": {},
   "outputs": [],
   "source": [
    "m.inner_product_matrix(100, 1, 1.2, 0, 2.5)[-1, -1]"
   ]
  },
  {
   "cell_type": "code",
   "execution_count": 13,
   "metadata": {},
   "outputs": [],
   "source": [
    "ipm = m.inner_product_matrix(10, 1, 1.2, 0, 2.5)"
   ]
  },
  {
   "cell_type": "code",
   "execution_count": 14,
   "metadata": {},
   "outputs": [
    {
     "data": {
      "text/plain": [
       "DeviceArray(-142.74398142, dtype=float64)"
      ]
     },
     "execution_count": 14,
     "metadata": {},
     "output_type": "execute_result"
    }
   ],
   "source": [
    "m.min_eigenvalue(10, 1, 1.2, 0, 2.5)"
   ]
  },
  {
   "cell_type": "code",
   "execution_count": 19,
   "metadata": {},
   "outputs": [
    {
     "data": {
      "text/plain": [
       "DeviceArray([-1.42743981e+02, -1.09187267e+01, -1.14718876e-01,  6.24100816e-01,  8.92551397e-01,  1.27393352e+00,  1.29144914e+01,  1.63974871e+01,  5.53276153e+01,  1.00701751e+02], dtype=float64)"
      ]
     },
     "execution_count": 19,
     "metadata": {},
     "output_type": "execute_result"
    }
   ],
   "source": [
    "la.eigvalsh(ipm)"
   ]
  },
  {
   "cell_type": "code",
   "execution_count": null,
   "metadata": {},
   "outputs": [],
   "source": []
  }
 ],
 "metadata": {
  "kernelspec": {
   "display_name": "Python 3",
   "language": "python",
   "name": "python3"
  },
  "language_info": {
   "codemirror_mode": {
    "name": "ipython",
    "version": 3
   },
   "file_extension": ".py",
   "mimetype": "text/x-python",
   "name": "python",
   "nbconvert_exporter": "python",
   "pygments_lexer": "ipython3",
   "version": "3.7.5"
  }
 },
 "nbformat": 4,
 "nbformat_minor": 4
}
